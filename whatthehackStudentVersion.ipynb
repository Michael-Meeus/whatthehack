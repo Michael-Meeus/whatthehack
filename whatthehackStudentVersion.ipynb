{
 "cells": [
  {
   "cell_type": "markdown",
   "metadata": {},
   "source": [
    "# What the hack/heck --Friday March 1st --Leuven\n",
    "\n",
    "## Workshop -- Basic introduction to data science with python \n",
    "\n",
    "### *Dr. Mbah Chamberlain*\n",
    "\n",
    "\n",
    "# 1. Installing python \n",
    "\n",
    "We will work with jupyterlab -- a very interesting *IDE*.\n",
    "\n",
    "Installing jupyter lab:\n",
    "\n",
    "I assume you have installed python, if not, go to https://www.python.org/downloads/ download and install python. \n",
    "\n",
    "Now open the **terminal** (Mac) and **cmd** (windows)  and use **pip** to install `jupyter lab`: \n",
    "\n",
    " `pip install jupyterlab`\n",
    "  \n"
   ]
  },
  {
   "cell_type": "markdown",
   "metadata": {},
   "source": [
    "# 2. Start jupyterlab\n",
    "Run the command in the terminal\n",
    "\n",
    "`jupyter lab `\n",
    "\n",
    "Jupyterlab will start on your default browser. To start jupyterlab on a specific browser do the following\n",
    "\n",
    "`jupyter lab --no-browser`\n",
    "\n",
    "You get an output of the form \n",
    "\n",
    "`Copy/paste this URL into your browser when you connect for the first time,`\n",
    "\n",
    " `to login with a token:`\n",
    "    \n",
    "  `http://localhost:8888/?token=e69028d0c1626125c2fa3f8d2ef51fff0296a713541f2dac `\n",
    "  "
   ]
  },
  {
   "cell_type": "markdown",
   "metadata": {},
   "source": [
    "# Outline\n",
    "1. Install relevant software -- done\n",
    "2. What we want to accomplish in this workshop\n",
    "3. Importing relevant modules that will help us reach our goal\n",
    "4. Learn the skills that will help us reach our goal\n",
    "5. Load in the relevant data \n",
    "6. Steps in form of exercises to guid you to the right direction to reach the goal of this workshop"
   ]
  },
  {
   "cell_type": "markdown",
   "metadata": {},
   "source": [
    "## What we want to accomplish"
   ]
  },
  {
   "cell_type": "markdown",
   "metadata": {},
   "source": [
    "## Importing modules"
   ]
  },
  {
   "cell_type": "code",
   "execution_count": 1,
   "metadata": {},
   "outputs": [],
   "source": [
    "import os \n",
    "import pandas as pd \n",
    "import matplotlib.pyplot as plt\n",
    "import numpy as np"
   ]
  },
  {
   "cell_type": "markdown",
   "metadata": {},
   "source": [
    "**Using the** `os` **module**"
   ]
  },
  {
   "cell_type": "markdown",
   "metadata": {},
   "source": [
    "Getting the current working directory"
   ]
  },
  {
   "cell_type": "code",
   "execution_count": null,
   "metadata": {},
   "outputs": [],
   "source": [
    "cwd = os.getcwd()\n",
    "cwd"
   ]
  },
  {
   "cell_type": "markdown",
   "metadata": {},
   "source": [
    "Setting the desired working directory -- the path below is my path set yours!"
   ]
  },
  {
   "cell_type": "code",
   "execution_count": 35,
   "metadata": {},
   "outputs": [],
   "source": [
    "path='/Users/mbahchamberlain/OneDrive - Tobania/workshop_python/data'\n",
    "os.chdir(path)"
   ]
  },
  {
   "cell_type": "code",
   "execution_count": null,
   "metadata": {},
   "outputs": [],
   "source": [
    "cwd = os.getcwd()\n",
    "cwd"
   ]
  },
  {
   "cell_type": "markdown",
   "metadata": {},
   "source": [
    "###  Learn the skills that will help us reach our goal\n",
    "\n",
    "Lets look at world population between `1950` and `2015`"
   ]
  },
  {
   "cell_type": "code",
   "execution_count": 2,
   "metadata": {},
   "outputs": [],
   "source": [
    "year = [1950, 1970, 1980,1990,2000,2005, 2010,2015]\n",
    "pop  = [2.519, 3.692,4.447, 5.296, 6.122,6.52, 6.933,7.358] "
   ]
  },
  {
   "cell_type": "markdown",
   "metadata": {},
   "source": [
    "What general statements can you make about the data above?\n",
    "\n",
    "Now we will plot the data to visualize it. \n",
    "\n",
    "We will use the `matplotlib.pyplot` module which we imported as `plt`"
   ]
  },
  {
   "cell_type": "code",
   "execution_count": null,
   "metadata": {},
   "outputs": [],
   "source": [
    "plt.scatter(x=year, y=pop) \n",
    "plt.show()"
   ]
  },
  {
   "cell_type": "markdown",
   "metadata": {},
   "source": [
    "Note that the `scatter`  method from the `plt` module plots the dots  you see. To plot a line we do "
   ]
  },
  {
   "cell_type": "code",
   "execution_count": null,
   "metadata": {},
   "outputs": [],
   "source": [
    "plt.plot(year, pop) \n",
    "plt.show()"
   ]
  },
  {
   "cell_type": "markdown",
   "metadata": {},
   "source": [
    "To plot a line and the dots we use the following code"
   ]
  },
  {
   "cell_type": "code",
   "execution_count": null,
   "metadata": {},
   "outputs": [],
   "source": [
    "plt.plot(year, pop,'ro',year,pop,'k') \n",
    "plt.show()"
   ]
  },
  {
   "cell_type": "markdown",
   "metadata": {},
   "source": [
    "**Dot sizes**"
   ]
  },
  {
   "cell_type": "markdown",
   "metadata": {},
   "source": [
    "Lets increase the size of the dots by adding an `s` parameter in the `scatter` method from `plt`. "
   ]
  },
  {
   "cell_type": "code",
   "execution_count": null,
   "metadata": {},
   "outputs": [],
   "source": [
    "plt.scatter(year,pop,s=200)\n",
    "plt.show()"
   ]
  },
  {
   "cell_type": "markdown",
   "metadata": {},
   "source": [
    "Try other values of `s` if you want."
   ]
  },
  {
   "cell_type": "markdown",
   "metadata": {},
   "source": [
    "We can also make each dot have its own size"
   ]
  },
  {
   "cell_type": "code",
   "execution_count": null,
   "metadata": {},
   "outputs": [],
   "source": [
    "dotSize=[200,500,800,100,150,300,50,1000]\n",
    "plt.scatter(year,pop,s=dotSize)\n",
    "plt.show()"
   ]
  },
  {
   "cell_type": "markdown",
   "metadata": {},
   "source": [
    "**Transperancy**"
   ]
  },
  {
   "cell_type": "markdown",
   "metadata": {},
   "source": [
    "Lets make two plots in the same graph"
   ]
  },
  {
   "cell_type": "code",
   "execution_count": null,
   "metadata": {},
   "outputs": [],
   "source": [
    "plt.scatter(year,pop,s=100)\n",
    "plt.scatter(year,pop,s=dotSize)\n",
    "plt.show()"
   ]
  },
  {
   "cell_type": "markdown",
   "metadata": {},
   "source": [
    "Notice that  the blue dots are hidden under the orange dots. To see them we will add transparency "
   ]
  },
  {
   "cell_type": "code",
   "execution_count": null,
   "metadata": {},
   "outputs": [],
   "source": [
    "plt.scatter(year,pop,s=100)\n",
    "plt.scatter(year,pop,s=dotSize,alpha=0.4)\n",
    "plt.show()"
   ]
  },
  {
   "cell_type": "markdown",
   "metadata": {},
   "source": [
    "**Labelling the axes**"
   ]
  },
  {
   "cell_type": "markdown",
   "metadata": {},
   "source": [
    "The axes are not labelled, lets label them"
   ]
  },
  {
   "cell_type": "code",
   "execution_count": null,
   "metadata": {},
   "outputs": [],
   "source": [
    "plt.scatter(year,pop,s=100)\n",
    "plt.scatter(year,pop,s=dotSize,alpha=0.4)\n",
    "\n",
    "plt.xlabel(\"Years\")\n",
    "plt.ylabel(\"Population in billions\")\n",
    "\n",
    "plt.show()"
   ]
  },
  {
   "cell_type": "markdown",
   "metadata": {},
   "source": [
    "Labeling the dots themselves, we will label each of the orange dots with their sizes. "
   ]
  },
  {
   "cell_type": "code",
   "execution_count": null,
   "metadata": {},
   "outputs": [],
   "source": [
    "plt.scatter(year,pop,s=100)\n",
    "plt.scatter(year,pop,s=dotSize,alpha=0.4)\n",
    "plt.xlabel(\"Years\")\n",
    "plt.ylabel(\"Population in billions\")\n",
    "\n",
    "for i in range(8):\n",
    " plt.text(year[i],pop[i]+0.5,dotSize[i])\n",
    "plt.show()"
   ]
  },
  {
   "cell_type": "markdown",
   "metadata": {},
   "source": [
    "We now have all the skills to produce the plot that shows the relationship between the GDP, life expectancy and population size. Lets read in the data and set the ball rolling. "
   ]
  },
  {
   "cell_type": "markdown",
   "metadata": {},
   "source": [
    "## Load in relevant data"
   ]
  },
  {
   "cell_type": "markdown",
   "metadata": {},
   "source": [
    "First where is the data?"
   ]
  },
  {
   "cell_type": "code",
   "execution_count": 18,
   "metadata": {},
   "outputs": [],
   "source": [
    "path='/Users/mbahchamberlain/OneDrive - Tobania/workshop_python/data'\n",
    "os.chdir(path)"
   ]
  },
  {
   "cell_type": "code",
   "execution_count": null,
   "metadata": {},
   "outputs": [],
   "source": [
    "cwd = os.getcwd()\n",
    "cwd"
   ]
  },
  {
   "cell_type": "markdown",
   "metadata": {},
   "source": [
    "Read the data and call it `data`"
   ]
  },
  {
   "cell_type": "code",
   "execution_count": 21,
   "metadata": {},
   "outputs": [],
   "source": [
    "data=pd.read_csv(\"data.csv\")"
   ]
  },
  {
   "cell_type": "markdown",
   "metadata": {},
   "source": [
    "Look at the `head` of the data"
   ]
  },
  {
   "cell_type": "code",
   "execution_count": null,
   "metadata": {},
   "outputs": [],
   "source": [
    "data.head()"
   ]
  },
  {
   "cell_type": "markdown",
   "metadata": {},
   "source": [
    "Then the `tail` of the data"
   ]
  },
  {
   "cell_type": "code",
   "execution_count": null,
   "metadata": {},
   "outputs": [],
   "source": [
    "data.tail()"
   ]
  },
  {
   "cell_type": "markdown",
   "metadata": {},
   "source": [
    "To make our plot, we will want to color the countries based on the continents"
   ]
  },
  {
   "cell_type": "code",
   "execution_count": null,
   "metadata": {},
   "outputs": [],
   "source": [
    "data[\"continent\"].unique()"
   ]
  },
  {
   "cell_type": "code",
   "execution_count": null,
   "metadata": {},
   "outputs": [],
   "source": [
    "col= {'Asia':'red', 'Europe':'blue', 'Africa':'green','Americas':'black', 'Oceania':'yellow'}\n",
    "col\n"
   ]
  },
  {
   "cell_type": "markdown",
   "metadata": {},
   "source": [
    "Variables you need to do the exercises"
   ]
  },
  {
   "cell_type": "code",
   "execution_count": 32,
   "metadata": {},
   "outputs": [],
   "source": [
    "colors=data['continent'].apply(lambda x: col[x])\n",
    "gdp=data[\"gdpPercap\"]\n",
    "lifeExp=data[\"lifeExp\"]\n",
    "pop=data['pop']\n",
    "country=data['country']"
   ]
  },
  {
   "cell_type": "markdown",
   "metadata": {},
   "source": [
    "How may countries are there? "
   ]
  },
  {
   "cell_type": "code",
   "execution_count": 28,
   "metadata": {},
   "outputs": [
    {
     "data": {
      "text/plain": [
       "142"
      ]
     },
     "execution_count": 28,
     "metadata": {},
     "output_type": "execute_result"
    }
   ],
   "source": [
    "n=len(data[\"country\"])\n",
    "n"
   ]
  },
  {
   "cell_type": "markdown",
   "metadata": {},
   "source": [
    "Time to do it yourself"
   ]
  },
  {
   "cell_type": "markdown",
   "metadata": {},
   "source": [
    "# Exercises"
   ]
  },
  {
   "cell_type": "markdown",
   "metadata": {},
   "source": [
    "(1) Make a scatter plot, `lifeExp` versus `gdp`\n",
    "\n",
    "(2) The size of each dot should be proportional to the population size, use the `pop` variable\n",
    "\n",
    "(3) Use a transperancy level `alpha=0.4`\n",
    "\n",
    "(4) Colour the countries with by setting `c=colors`\n",
    "\n",
    "(5) Label each point on the plot with their country name, use the `country` variable\n",
    "\n",
    "(6) The font sizes of the country labels should be proportional to the population, use `pop` for this\n",
    "\n",
    "(7) Label your axes with appropriate names\n",
    "\n",
    "(8) Show your plot, use `plt.show()`\n"
   ]
  }
 ],
 "metadata": {
  "kernelspec": {
   "display_name": "Python 3",
   "language": "python",
   "name": "python3"
  },
  "language_info": {
   "codemirror_mode": {
    "name": "ipython",
    "version": 3
   },
   "file_extension": ".py",
   "mimetype": "text/x-python",
   "name": "python",
   "nbconvert_exporter": "python",
   "pygments_lexer": "ipython3",
   "version": "3.7.0"
  }
 },
 "nbformat": 4,
 "nbformat_minor": 2
}
